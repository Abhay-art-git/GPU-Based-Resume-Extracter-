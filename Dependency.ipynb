# Cell 2: Install all dependencies
!pip install -q PyMuPDF Pillow
!pip install -q paddlepaddle-gpu  # GPU version of paddle
!pip install -q paddleocr
!pip install -q pydantic langchain ollama
!pip install -q nest-asyncio pyngrok
!pip install -q spacy scikit-learn nltk python-dateutil
!pip install -q gputil

# Install Ollama
!curl -fsSL https://ollama.com/install.sh | sh

# Download spaCy model
!python -m spacy download en_core_web_sm

# Check GPU
import torch
print(f"GPU Available: {torch.cuda.is_available()}")
print(f"GPU Name: {torch.cuda.get_device_name(0) if torch.cuda.is_available() else 'No GPU'}")

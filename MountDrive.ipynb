# Cell 1: Setup project structure and mount Google Drive
from google.colab import drive
drive.mount('/content/drive')

import os
import sys

# Create project directory
project_path = '/content/drive/MyDrive/resume_extractor_project'
os.makedirs(project_path, exist_ok=True)
os.chdir(project_path)

# Add to Python path
sys.path.append(project_path)

print(f"Project directory: {project_path}")
print(f"Current directory: {os.getcwd()}")

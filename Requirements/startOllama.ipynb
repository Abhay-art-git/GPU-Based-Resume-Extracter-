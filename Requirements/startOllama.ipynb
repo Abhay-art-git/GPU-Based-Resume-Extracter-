# Cell 8: Run setup without hanging
import subprocess
import time

# Start Ollama in background without waiting
print("Starting Ollama service...")
ollama_process = subprocess.Popen(
    ['ollama', 'serve'],
    stdout=subprocess.DEVNULL,
    stderr=subprocess.DEVNULL
)

# Wait a bit for service to start
time.sleep(10)

# Check if Ollama is running
try:
    result = subprocess.run(['ollama', 'list'], capture_output=True, text=True)
    if result.returncode == 0:
        print("✓ Ollama service is running")
    else:
        print("⚠ Ollama might not be running properly")
except:
    print("⚠ Could not verify Ollama status")

# # Pull the model if not already present
# print("\nChecking Mistral model...")
# try:
#     # Check if model exists
#     result = subprocess.run(['ollama', 'show', 'mistral:7b-instruct'], capture_output=True, text=True)
#     if result.returncode == 0:
#         print("✓ Mistral model already available")
#     else:
#         print("Pulling Mistral model (this may take a few minutes)...")
#         subprocess.run(['ollama', 'pull', 'mistral:7b-instruct'])
#         print("✓ Model pulled successfully")
# except Exception as e:
#     print(f"Model check error: {e}")

# print("\n✓ Setup complete! You can now run the extraction.")

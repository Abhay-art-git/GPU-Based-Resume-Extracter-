# Cell 9: Create a notebook runner for easy execution
notebook_runner = '''
# run_extraction.ipynb equivalent for Colab

import os
import sys
import time
from IPython.display import display, HTML, clear_output
import ipywidgets as widgets
from google.colab import files

# Import our modules
from resume_extractor import ResumeExtractor
from advanced_features import ResumeEnhancer

# Initialize
print("Initializing GPU-powered Resume Extractor...")
extractor = ResumeExtractor()
enhancer = ResumeEnhancer()

# Create upload widget
upload_widget = widgets.FileUpload(
    accept='.pdf',
    multiple=False,
    description='Upload Resume PDF'
)

output_area = widgets.Output()

def process_resume(change):
    with output_area:
        clear_output()

        if upload_widget.value:
            file_info = list(upload_widget.value.values())[0]
            content = file_info['content']

            # Save temporarily
            temp_path = '/tmp/uploaded_resume.pdf'
            with open(temp_path, 'wb') as f:
                f.write(content)

            print(f"Processing {file_info['name']}...")

            # Extract with timing
            start = time.time()
            result = extractor.extract_resume(temp_path)
            elapsed = time.time() - start

            # Display results
            print(f"\\n✓ Extraction completed in {elapsed:.2f} seconds on GPU!")

            # Show extracted data
            display(HTML("<h3>Extracted Data:</h3>"))
            display(result.dict())

            # Advanced features
            resume_dict = result.dict()
            print(f"\\nExperience: {enhancer.calculate_experience_years(resume_dict['experience'])} years")
            print(f"ATS Score: {enhancer.calculate_ats_score(resume_dict)['percentage']}%")

            # Save results
            output_file = f"/content/{file_info['name'].replace('.pdf', '_extracted.json')}"
            with open(output_file, 'w') as f:
                json.dump(resume_dict, f, indent=2)
            print(f"\\nResults saved to: {output_file}")

upload_widget.observe(process_resume, names='value')

# Display interface
display(HTML("<h2>GPU-Powered Resume Extractor</h2>"))
display(upload_widget)
display(output_area)
'''

# Save as Python file that can be imported
with open('notebook_interface.py', 'w') as f:
    f.write(notebook_runner)
print("✓ Created notebook_interface.py")

# Cell: Setup Ollama to use Google Drive for model storage
import os
import subprocess

# Create directory for Ollama models in Google Drive
ollama_models_dir = '/content/drive/MyDrive/resume_extractor_project/ollama_models'
os.makedirs(ollama_models_dir, exist_ok=True)

# Set Ollama to use Google Drive for model storage
os.environ['OLLAMA_MODELS'] = ollama_models_dir

print(f"Ollama models will be stored in: {ollama_models_dir}")

# Start Ollama service
subprocess.Popen(['ollama', 'serve'], stdout=subprocess.DEVNULL, stderr=subprocess.DEVNULL)
import time
time.sleep(10)

# Check if model exists, only pull if not present
import os.path
model_path = os.path.join(ollama_models_dir, 'mistral:7b-instruct')

if os.path.exists(model_path) or any('mistral' in f for f in os.listdir(ollama_models_dir) if os.path.isdir(os.path.join(ollama_models_dir, f))):
    print("✓ Mistral model found in Google Drive! Skipping download.")
else:
    print("Downloading Mistral model to Google Drive (first time only)...")
    !ollama pull mistral:7b-instruct
    print("✓ Model downloaded and saved to Google Drive")

print("\n✓ Setup complete! Model will be reused from Google Drive in future runs.")

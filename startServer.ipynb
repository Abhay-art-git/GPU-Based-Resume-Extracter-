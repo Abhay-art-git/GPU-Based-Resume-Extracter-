# Cell 10 - Professional Gradio Interface
!pip install -q gradio

import gradio as gr
from resume_extractor import ResumeExtractor
from advanced_features import ResumeEnhancer
import json
import time
import os

# Initialize
extractor = ResumeExtractor()
enhancer = ResumeEnhancer()

# ----------- Professional Minimal CSS -----------
custom_css = """
/* ---------- Base Container ---------- */
.gradio-container {
    font-family: 'Inter', -apple-system, BlinkMacSystemFont, 'Segoe UI', sans-serif !important;
    background: #f8fafc !important;
    color: #1f2937 !important;
}

/* ---------- Header Section ---------- */
#custom-header {
    background: #ffffff;
    padding: 2.5rem 2rem;
    border-radius: 12px;
    text-align: center;
    color: #111827;
    margin-bottom: 2rem;
    border: 1px solid #e5e7eb;
    box-shadow: 0 2px 8px rgba(0,0,0,0.06);
}

#custom-header h1 {
    font-size: 2.2rem;
    font-weight: 700;
    margin: 0;
    color: #111827;
}

#custom-header p {
    font-size: 1rem;
    margin-top: 0.5rem;
    color: #6b7280;
}

/* ---------- GPU Status Badge ---------- */
.gpu-badge {
    position: fixed;
    top: 20px;
    right: 20px;
    background: #0000FF;
    color: white;
    padding: 8px 18px;
    border-radius: 20px;
    font-weight: 600;
    font-size: 0.85rem;
    box-shadow: 0 2px 6px rgba(0,0,0,0.15);
    z-index: 1000;
}

/* ---------- Info Cards ---------- */
.info-card {
    background: #ffffff;
    padding: 1.8rem;
    border-radius: 12px;
    border: 1px solid #e5e7eb;
    margin: 1rem 0;
    box-shadow: 0 2px 6px rgba(0,0,0,0.04);
}

.info-card h3 {
    color: #111827;
    margin: 0 0 1rem 0;
    font-size: 1.2rem;
    font-weight: 600;
}

/* ---------- Metrics Grid ---------- */
.metrics-grid {
    display: grid;
    grid-template-columns: repeat(auto-fit, minmax(180px, 1fr));
    gap: 1rem;
    margin: 1.5rem 0;
}

.metric-box {
    background: #f9fafb;
    padding: 1.2rem;
    border-radius: 10px;
    text-align: center;
    border: 1px solid #e5e7eb;
}

.metric-value {
    font-size: 2rem;
    font-weight: 700;
    color: #2563eb;
    margin: 0.3rem 0;
}

.metric-label {
    color: #6b7280;
    font-size: 0.8rem;
    text-transform: uppercase;
    letter-spacing: 0.04em;
    font-weight: 600;
}

/* ---------- Skills Styling ---------- */
.skills-container {
    display: flex;
    flex-wrap: wrap;
    gap: 0.5rem;
    margin: 1rem 0;
}

.skill-tag {
    background: #eef2ff;
    color: #3730a3;
    padding: 0.4rem 0.9rem;
    border-radius: 6px;
    font-size: 0.85rem;
    font-weight: 500;
    transition: background 0.2s ease;
}

.skill-tag:hover {
    background: #e0e7ff;
}

/* ---------- Experience ---------- */
.exp-item {
    background: #f9fafb;
    padding: 1.2rem;
    border-radius: 8px;
    margin: 0.8rem 0;
    border-left: 4px solid #6366f1;
}

.exp-title {
    color: #111827;
    font-size: 1rem;
    font-weight: 600;
    margin: 0;
}

.exp-company {
    color: #2563eb;
    font-size: 0.95rem;
    margin: 0.2rem 0;
}

.exp-date {
    color: #6b7280;
    font-size: 0.8rem;
}

/* ---------- Status Badges ---------- */
.status-success {
    background: #ecfdf5;
    color: #065f46;
    padding: 0.8rem 1.2rem;
    border-radius: 8px;
    font-weight: 600;
    margin: 1rem 0;
    border: 1px solid #a7f3d0;
}

.status-error {
    background: #fef2f2;
    color: #991b1b;
    padding: 0.8rem 1.2rem;
    border-radius: 8px;
    font-weight: 600;
    margin: 1rem 0;
    border: 1px solid #fecaca;
}

/* ---------- Button Styling ---------- */
button.primary-button {
    background: #2563eb !important;
    color: white !important;
    font-weight: 600 !important;
    font-size: 1rem !important;
    padding: 0.8rem 1.5rem !important;
    border-radius: 8px !important;
    border: none !important;
    cursor: pointer !important;
    transition: background 0.2s ease !important;
}

button.primary-button:hover {
    background: #1e40af !important;
}

/* ---------- File Upload ---------- */
.file-upload-area {
    border: 2px dashed #2563eb !important;
    border-radius: 10px !important;
    padding: 1.5rem !important;
    background: #f9fafb !important;
    transition: border 0.3s ease, background 0.3s ease !important;
}

.file-upload-area:hover {
    background: #f3f4f6 !important;
    border-color: #1d4ed8 !important;
}

/* ---------- Tabs ---------- */
.tab-nav button {
    font-size: 0.95rem !important;
    font-weight: 600 !important;
    padding: 0.8rem 1.2rem !important;
    color: #374151 !important;
}

.tab-nav button.selected {
    color: #2563eb !important;
    border-bottom: 3px solid #2563eb !important;
}

/* ---------- Code Block ---------- */
.code-block {
    background: #1e293b !important;
    color: #e5e7eb !important;
    border-radius: 10px !important;
    padding: 1rem !important;
    font-family: 'Fira Code', monospace !important;
}
"""

# ----------- Helper Functions -----------
def format_html_output(resume_dict, processing_time):
    """Format resume data as beautiful HTML."""
    personal_info = resume_dict.get('personal_info', {})
    experience = resume_dict.get('experience', [])
    skills = resume_dict.get('skills', {})
    
    exp_years = enhancer.calculate_experience_years(experience)
    ats_score = enhancer.calculate_ats_score(resume_dict)
    
    html = f"""
    <div class="status-success">
         Successfully extracted in {processing_time:.2f} seconds on GPU!
    </div>

    <div class="info-card">
        <h3> Personal Information</h3>
        <p><strong>Name:</strong> {personal_info.get('name', 'N/A')}</p>
        <p><strong>Email:</strong> {personal_info.get('email', 'N/A')}</p>
        <p><strong>Phone:</strong> {personal_info.get('phone', 'N/A')}</p>
        <p><strong>Location:</strong> {personal_info.get('location', 'N/A')}</p>
    </div>
    
    <div class="info-card">
        <h3>Experience</h3>
    """
    for exp in experience[:3]:
        html += f"""
        <div class="exp-item">
            <div class="exp-title">{exp.get('position', 'Position')}</div>
            <div class="exp-company">{exp.get('company', 'Company')}</div>
            <div class="exp-date">{exp.get('start_date', '')} - {exp.get('end_date', '')}</div>
        </div>
        """
    
    html += """
    </div>
    
    <div class="info-card">
        <h3>Skills</h3>
        <div class="skills-container">
    """
    all_skills = []
    for category in ['technical', 'soft', 'languages', 'tools']:
        all_skills.extend(skills.get(category, []))
    for skill in all_skills[:15]:
        html += f'<span class="skill-tag">{skill}</span>'
    html += "</div></div>"
    return html

def process_resume(pdf_file):
    if pdf_file is None:
        return ('<div class="status-error"> Please upload a PDF file</div>', "")
    try:
        start_time = time.time()
        result = extractor.extract_resume(pdf_file.name)
        resume_dict = result.dict() if hasattr(result, 'dict') else result.model_dump()
        processing_time = time.time() - start_time
        html_output = format_html_output(resume_dict, processing_time)
        json_output = json.dumps(resume_dict, indent=2)
        return html_output, json_output
    except Exception as e:
        error_html = f'<div class="status-error"> Error: {str(e)}</div>'
        return error_html, ""

# ----------- Gradio Interface -----------
with gr.Blocks(css=custom_css, theme=gr.themes.Soft(), title="AI Resume Extracter") as demo:
    gr.HTML('<div class="gpu-badge"> SEMSTO</div>')
    
    gr.HTML("""
    <div id="custom-header">
        <h1> AI Resume Extracter</h1>
        <p>Powered by SEMSTO</p>
    </div>
    """)
    
    with gr.Tabs():
        with gr.TabItem(" Extract Resume"):
            with gr.Row():
                with gr.Column(scale=1):
                    gr.Markdown("###  Upload Resume")
                    pdf_input = gr.File(
                        label="Upload PDF Resume",
                        file_types=[".pdf"],
                        elem_classes="file-upload-area"
                    )
                    extract_btn = gr.Button(
                        " Extract Resume Data",
                        variant="primary",
                        size="lg",
                        elem_classes="primary-button"
                    )
                with gr.Column(scale=2):
                    html_output = gr.HTML(label="Extracted Resume")
        
        with gr.TabItem(" JSON Output"):
            json_output = gr.Code(
                label="Structured JSON Data",
                language="json",
                lines=25,
                elem_classes="code-block"
            )
    
    extract_btn.click(
        fn=process_resume,
        inputs=[pdf_input],
        outputs=[html_output, json_output]
    )

print(" Launching AI Resume Extracter...")
demo.launch(
    share=True,
    server_name="0.0.0.0",
    server_port=7050,
    show_error=True
)

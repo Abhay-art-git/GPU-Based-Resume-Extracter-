# Cell 6: Create test.py for GPU benchmarking
test_code = '''
import time
import os
from resume_extractor import ResumeExtractor
from advanced_features import ResumeEnhancer
import json

def test_gpu_extraction():
    """Test extraction speed on GPU."""
    print("\\n" + "="*60)
    print("RESUME EXTRACTOR GPU BENCHMARK")
    print("="*60)

    # Initialize
    print("\\nInitializing on GPU...")
    extractor = ResumeExtractor(model_name="mistral:7b-instruct")
    enhancer = ResumeEnhancer()

    # Test file
    test_pdf = "test_resume.pdf"

    if not os.path.exists(test_pdf):
        print("\\nPlease upload a test PDF file named 'test_resume.pdf'")
        from google.colab import files
        uploaded = files.upload()
        for filename in uploaded:
            os.rename(filename, test_pdf)

    # Benchmark extraction
    print(f"\\nTesting extraction of: {test_pdf}")
    print("-"*60)

    # Warm-up run
    print("Warm-up run...")
    _ = extractor.extract_resume(test_pdf)

    # Timed runs
    times = []
    for i in range(3):
        print(f"\\nRun {i+1}/3:")
        start = time.time()
        result = extractor.extract_resume(test_pdf)
        elapsed = time.time() - start
        times.append(elapsed)
        print(f"Time: {elapsed:.2f} seconds")

    # Results
    avg_time = sum(times) / len(times)
    print("\\n" + "="*60)
    print(f"Average extraction time on GPU: {avg_time:.2f} seconds")
    print(f"Min time: {min(times):.2f} seconds")
    print(f"Max time: {max(times):.2f} seconds")

    # Compare with CPU estimate
    cpu_estimate = 300  # 5 minutes
    speedup = cpu_estimate / avg_time
    print(f"\\nEstimated speedup vs CPU: {speedup:.1f}x faster")
    print(f"Time saved per resume: {(cpu_estimate - avg_time)/60:.1f} minutes")

    # Test advanced features
    print("\\n" + "-"*60)
    print("Testing advanced features...")

    features_start = time.time()
    resume_dict = result.dict()

    experience_years = enhancer.calculate_experience_years(resume_dict['experience'])
    ats_score = enhancer.calculate_ats_score(resume_dict)
    key_skills = enhancer.extract_key_skills(resume_dict, top_n=10)
    suggestions = enhancer.suggest_improvements(resume_dict)

    features_time = time.time() - features_start

    print(f"Advanced features processing time: {features_time:.2f} seconds")
    print(f"\\nExtracted {experience_years} years of experience")
    print(f"ATS Score: {ats_score['percentage']}%")
    print(f"Top skills: {', '.join(key_skills[:5])}")

    print("\\n" + "="*60)
    print("✓ GPU BENCHMARK COMPLETE")
    print("="*60)

if __name__ == "__main__":
    test_gpu_extraction()
'''

with open('test.py', 'w') as f:
    f.write(test_code)
print("✓ Created test.py")
